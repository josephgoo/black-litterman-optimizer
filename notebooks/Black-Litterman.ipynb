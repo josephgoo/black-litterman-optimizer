{
 "cells": [
  {
   "cell_type": "code",
   "execution_count": null,
   "id": "605b3192",
   "metadata": {},
   "outputs": [],
   "source": [
    "# Black-Litterman Bayesian Portfolio Optimizer\n",
    "# Jupyter notebook walkthrough for the Black-Litterman model."
   ]
  }
 ],
 "metadata": {
  "language_info": {
   "name": "python"
  }
 },
 "nbformat": 4,
 "nbformat_minor": 5
}
