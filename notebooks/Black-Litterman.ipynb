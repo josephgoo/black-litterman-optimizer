{
 "cells": [
  {
   "cell_type": "markdown",
   "id": "5c1268b2",
   "metadata": {},
   "source": [
    "# Black–Litterman Bayesian Portfolio Optimizer\n",
    "\n",
    "This notebook walks through data fetching, historical mean–variance (MV) estimation, constructing Black–Litterman (BL) posterior from views, and comparing efficient frontiers and optimal portfolios.\n",
    "\n",
    "Sections:\n",
    "1. Setup and parameters\n",
    "2. Data loading and preprocessing\n",
    "3. Historical MV estimates (μ, Σ)\n",
    "4. Market-implied equilibrium returns (π)\n",
    "5. Views and BL posterior\n",
    "6. Efficient frontiers (MV vs BL)\n",
    "7. Optimal portfolios and weights comparison"
   ]
  },
  {
   "cell_type": "markdown",
   "id": "8a94ecfb",
   "metadata": {},
   "source": [
    "## 1. Setup and parameters\n",
    "\n",
    "We’ll set analysis parameters (tickers, dates, risk-free rate, BL hyperparameters) and import project modules."
   ]
  },
  {
   "cell_type": "code",
   "execution_count": 1,
   "id": "44c33035",
   "metadata": {},
   "outputs": [
    {
     "ename": "ModuleNotFoundError",
     "evalue": "No module named 'src'",
     "output_type": "error",
     "traceback": [
      "\u001b[0;31m---------------------------------------------------------------------------\u001b[0m",
      "\u001b[0;31mModuleNotFoundError\u001b[0m                       Traceback (most recent call last)",
      "Cell \u001b[0;32mIn[1], line 9\u001b[0m\n\u001b[1;32m      6\u001b[0m START \u001b[38;5;241m=\u001b[39m \u001b[38;5;124m\"\u001b[39m\u001b[38;5;124m2018-01-01\u001b[39m\u001b[38;5;124m\"\u001b[39m\n\u001b[1;32m      8\u001b[0m \u001b[38;5;28;01mimport\u001b[39;00m \u001b[38;5;21;01mpandas\u001b[39;00m \u001b[38;5;28;01mas\u001b[39;00m \u001b[38;5;21;01mpd\u001b[39;00m\n\u001b[0;32m----> 9\u001b[0m \u001b[38;5;28;01mfrom\u001b[39;00m \u001b[38;5;21;01msrc\u001b[39;00m \u001b[38;5;28;01mimport\u001b[39;00m data_loader \u001b[38;5;28;01mas\u001b[39;00m dl\n\u001b[1;32m     10\u001b[0m \u001b[38;5;28;01mfrom\u001b[39;00m \u001b[38;5;21;01msrc\u001b[39;00m \u001b[38;5;28;01mimport\u001b[39;00m implied_returns \u001b[38;5;28;01mas\u001b[39;00m ir\n\u001b[1;32m     11\u001b[0m \u001b[38;5;28;01mfrom\u001b[39;00m \u001b[38;5;21;01msrc\u001b[39;00m \u001b[38;5;28;01mimport\u001b[39;00m views \u001b[38;5;28;01mas\u001b[39;00m vw\n",
      "\u001b[0;31mModuleNotFoundError\u001b[0m: No module named 'src'"
     ]
    }
   ],
   "source": [
    "# Parameters and imports\n",
    "RISK_FREE = 0.0\n",
    "TAU = 0.05\n",
    "DELTA = 2.5\n",
    "TICKERS = [\"AAPL\", \"MSFT\", \"GOOGL\", \"AMZN\"]\n",
    "START = \"2018-01-01\"\n",
    "\n",
    "import pandas as pd\n",
    "from src import data_loader as dl\n",
    "from src import implied_returns as ir\n",
    "from src import views as vw\n",
    "from src import optimizer as opt\n",
    "from src import plots\n",
    "import matplotlib.pyplot as plt"
   ]
  },
  {
   "cell_type": "code",
   "execution_count": null,
   "id": "1c8a563d",
   "metadata": {},
   "outputs": [],
   "source": [
    "# 2) Data loading\n",
    "prices = dl.fetch_prices(TICKERS, start=START).prices\n",
    "prices.tail()"
   ]
  },
  {
   "cell_type": "code",
   "execution_count": null,
   "id": "b13289a6",
   "metadata": {},
   "outputs": [],
   "source": [
    "# 3) Historical MV estimates\n",
    "mu_hist, Sigma_hist = dl.returns_and_covariance(prices, method='log')\n",
    "print('mu_hist:')\n",
    "display(mu_hist)\n",
    "print('Sigma_hist shape:', Sigma_hist.shape)"
   ]
  },
  {
   "cell_type": "code",
   "execution_count": null,
   "id": "e5c6ee33",
   "metadata": {},
   "outputs": [],
   "source": [
    "# 4) Market-implied equilibrium returns (π)\n",
    "market_caps = {t: 1.0 for t in TICKERS}  # placeholder; replace with real caps for accuracy\n",
    "w_mkt = ir.market_caps_to_weights(market_caps)\n",
    "pi = ir.compute_pi(Sigma_hist, w_mkt, DELTA)\n",
    "print('pi (equilibrium returns):')\n",
    "display(pi)"
   ]
  },
  {
   "cell_type": "code",
   "execution_count": null,
   "id": "ce7cb431",
   "metadata": {},
   "outputs": [],
   "source": [
    "# 7) Optimal (max Sharpe) portfolios under MV and BL\n",
    "w_mv, r_mv, s_mv, sh_mv = opt.max_sharpe_portfolio(mu_hist, Sigma_hist)\n",
    "w_bl, r_bl, s_bl, sh_bl = opt.max_sharpe_portfolio(bl.mu_bl, bl.Sigma_bl)\n",
    "print('MV max Sharpe metrics:', {'ret': r_mv, 'risk': s_mv, 'sharpe': sh_mv})\n",
    "print('MV weights:')\n",
    "display(w_mv.sort_values(ascending=False))\n",
    "print('BL max Sharpe metrics:', {'ret': r_bl, 'risk': s_bl, 'sharpe': sh_bl})\n",
    "print('BL weights:')\n",
    "display(w_bl.sort_values(ascending=False))"
   ]
  },
  {
   "cell_type": "code",
   "execution_count": null,
   "id": "503ef16e",
   "metadata": {},
   "outputs": [],
   "source": [
    "# 6) Efficient frontiers and plot\n",
    "curves = opt.compare_mv_vs_bl(mu_hist, Sigma_hist, bl.mu_bl, bl.Sigma_bl)\n",
    "fig, ax = plots.plot_frontiers(*curves.values())\n",
    "plt.show()\n",
    "\n",
    "# Simple comparison table at equal grid index (midpoint)\n",
    "mv_df, _ = curves['mv']\n",
    "bl_df, _ = curves['bl']\n",
    "mid = len(mv_df)//2\n",
    "comp = pd.DataFrame({\n",
    "    'MV_return': [mv_df.loc[mid, 'return']],\n",
    "    'MV_risk': [mv_df.loc[mid, 'risk']],\n",
    "    'BL_return': [bl_df.loc[mid, 'return']],\n",
    "    'BL_risk': [bl_df.loc[mid, 'risk']],\n",
    "})\n",
    "comp"
   ]
  },
  {
   "cell_type": "code",
   "execution_count": null,
   "id": "92e5cb53",
   "metadata": {},
   "outputs": [],
   "source": [
    "# 5) Views and BL posterior\n",
    "# Example: AAPL expected to outperform MSFT by 2% annually\n",
    "P_row, q = vw.relative_view(TICKERS, long='AAPL', short='MSFT', magnitude=0.02)\n",
    "P, Q = vw.build_PQ([(P_row, q)])\n",
    "bl = opt.black_litterman_posterior(Sigma_hist, pi, P, Q, tau=TAU)\n",
    "print('BL posterior mu:')\n",
    "display(bl.mu_bl)"
   ]
  },
  {
   "cell_type": "code",
   "execution_count": null,
   "id": "ed0aa9b3",
   "metadata": {},
   "outputs": [],
   "source": [
    "# 7b) Compare weights visually\n",
    "ax = pd.DataFrame({'MV': w_mv, 'BL': w_bl}).plot(kind='bar', figsize=(8,4), title='Max Sharpe Weights: MV vs BL')\n",
    "plt.tight_layout()\n",
    "plt.show()"
   ]
  }
 ],
 "metadata": {
  "kernelspec": {
   "display_name": "Python 3",
   "language": "python",
   "name": "python3"
  },
  "language_info": {
   "codemirror_mode": {
    "name": "ipython",
    "version": 3
   },
   "file_extension": ".py",
   "mimetype": "text/x-python",
   "name": "python",
   "nbconvert_exporter": "python",
   "pygments_lexer": "ipython3",
   "version": "3.11.3"
  }
 },
 "nbformat": 4,
 "nbformat_minor": 5
}
