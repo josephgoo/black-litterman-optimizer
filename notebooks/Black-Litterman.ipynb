{
 "cells": [
  {
   "cell_type": "markdown",
   "id": "5c1268b2",
   "metadata": {},
   "source": [
    "# Black–Litterman Bayesian Portfolio Optimizer\n",
    "\n",
    "This notebook walks through data fetching, historical mean–variance (MV) estimation, constructing Black–Litterman (BL) posterior from views, and comparing efficient frontiers and optimal portfolios.\n",
    "\n",
    "Sections:\n",
    "1. Setup and parameters\n",
    "2. Data loading and preprocessing\n",
    "3. Historical MV estimates (μ, Σ)\n",
    "4. Market-implied equilibrium returns (π)\n",
    "5. Views and BL posterior\n",
    "6. Efficient frontiers (MV vs BL)\n",
    "7. Tangent portfolios comparison"
   ]
  },
  {
   "cell_type": "markdown",
   "id": "8a94ecfb",
   "metadata": {},
   "source": [
    "## 1. Setup and parameters\n",
    "\n",
    "We’ll set analysis parameters (tickers, dates, risk-free rate, BL hyperparameters) and import project modules."
   ]
  },
  {
   "cell_type": "code",
   "execution_count": 11,
   "id": "44c33035",
   "metadata": {},
   "outputs": [],
   "source": [
    "# Parameters and imports\n",
    "RISK_FREE = 0.0\n",
    "TAU = 0.05\n",
    "TICKERS = [\"AAPL\", \"MSFT\", \"GOOGL\", \"AMZN\"]\n",
    "START = \"2018-01-01\"\n",
    "\n",
    "# Ensure project root is on sys.path so `from src import ...` works\n",
    "import sys\n",
    "from pathlib import Path\n",
    "ROOT = Path().resolve()\n",
    "for p in [ROOT, ROOT.parent, ROOT.parent.parent]:\n",
    "    if (p / 'src').exists():\n",
    "        sys.path.insert(0, str(p))\n",
    "        break\n",
    "\n",
    "import pandas as pd\n",
    "import numpy as np\n",
    "import importlib\n",
    "from src import data_loader as dl\n",
    "from src import implied_returns as ir\n",
    "from src import market_portfolio as mp\n",
    "from src import views as vw\n",
    "from src import optimizer as opt\n",
    "from src import plots\n",
    "import matplotlib.pyplot as plt\n",
    "\n",
    "# hot-reload modules if already imported\n",
    "for m in [dl, ir, mp, vw, opt, plots]:\n",
    "    importlib.reload(m)"
   ]
  },
  {
   "cell_type": "markdown",
   "id": "9fc0e64c",
   "metadata": {},
   "source": [
    "## 2. Data loading and preprocessing"
   ]
  },
  {
   "cell_type": "code",
   "execution_count": 3,
   "id": "1c8a563d",
   "metadata": {},
   "outputs": [
    {
     "data": {
      "text/html": [
       "<div>\n",
       "<style scoped>\n",
       "    .dataframe tbody tr th:only-of-type {\n",
       "        vertical-align: middle;\n",
       "    }\n",
       "\n",
       "    .dataframe tbody tr th {\n",
       "        vertical-align: top;\n",
       "    }\n",
       "\n",
       "    .dataframe thead th {\n",
       "        text-align: right;\n",
       "    }\n",
       "</style>\n",
       "<table border=\"1\" class=\"dataframe\">\n",
       "  <thead>\n",
       "    <tr style=\"text-align: right;\">\n",
       "      <th></th>\n",
       "      <th>AAPL</th>\n",
       "      <th>MSFT</th>\n",
       "      <th>GOOGL</th>\n",
       "      <th>AMZN</th>\n",
       "    </tr>\n",
       "    <tr>\n",
       "      <th>Date</th>\n",
       "      <th></th>\n",
       "      <th></th>\n",
       "      <th></th>\n",
       "      <th></th>\n",
       "    </tr>\n",
       "  </thead>\n",
       "  <tbody>\n",
       "    <tr>\n",
       "      <th>2025-08-04</th>\n",
       "      <td>203.350006</td>\n",
       "      <td>535.640015</td>\n",
       "      <td>195.039993</td>\n",
       "      <td>211.649994</td>\n",
       "    </tr>\n",
       "    <tr>\n",
       "      <th>2025-08-05</th>\n",
       "      <td>202.919998</td>\n",
       "      <td>527.750000</td>\n",
       "      <td>194.669998</td>\n",
       "      <td>213.750000</td>\n",
       "    </tr>\n",
       "    <tr>\n",
       "      <th>2025-08-06</th>\n",
       "      <td>213.250000</td>\n",
       "      <td>524.940002</td>\n",
       "      <td>196.089996</td>\n",
       "      <td>222.309998</td>\n",
       "    </tr>\n",
       "    <tr>\n",
       "      <th>2025-08-07</th>\n",
       "      <td>220.029999</td>\n",
       "      <td>520.840027</td>\n",
       "      <td>196.520004</td>\n",
       "      <td>223.130005</td>\n",
       "    </tr>\n",
       "    <tr>\n",
       "      <th>2025-08-08</th>\n",
       "      <td>229.350006</td>\n",
       "      <td>522.039978</td>\n",
       "      <td>201.419998</td>\n",
       "      <td>222.690002</td>\n",
       "    </tr>\n",
       "  </tbody>\n",
       "</table>\n",
       "</div>"
      ],
      "text/plain": [
       "                  AAPL        MSFT       GOOGL        AMZN\n",
       "Date                                                      \n",
       "2025-08-04  203.350006  535.640015  195.039993  211.649994\n",
       "2025-08-05  202.919998  527.750000  194.669998  213.750000\n",
       "2025-08-06  213.250000  524.940002  196.089996  222.309998\n",
       "2025-08-07  220.029999  520.840027  196.520004  223.130005\n",
       "2025-08-08  229.350006  522.039978  201.419998  222.690002"
      ]
     },
     "execution_count": 3,
     "metadata": {},
     "output_type": "execute_result"
    }
   ],
   "source": [
    "prices = dl.fetch_prices(TICKERS, start=START).prices\n",
    "prices.tail()"
   ]
  },
  {
   "cell_type": "markdown",
   "id": "1a780b6a",
   "metadata": {},
   "source": [
    "## 3. Historical MV estimates (μ, Σ)"
   ]
  },
  {
   "cell_type": "code",
   "execution_count": 4,
   "id": "b13289a6",
   "metadata": {},
   "outputs": [
    {
     "name": "stdout",
     "output_type": "stream",
     "text": [
      "mu_hist:\n"
     ]
    },
    {
     "data": {
      "text/plain": [
       "AAPL     0.229011\n",
       "MSFT     0.248589\n",
       "GOOGL    0.175304\n",
       "AMZN     0.174241\n",
       "dtype: float64"
      ]
     },
     "metadata": {},
     "output_type": "display_data"
    },
    {
     "name": "stdout",
     "output_type": "stream",
     "text": [
      "Sigma_hist:\n"
     ]
    },
    {
     "data": {
      "text/html": [
       "<div>\n",
       "<style scoped>\n",
       "    .dataframe tbody tr th:only-of-type {\n",
       "        vertical-align: middle;\n",
       "    }\n",
       "\n",
       "    .dataframe tbody tr th {\n",
       "        vertical-align: top;\n",
       "    }\n",
       "\n",
       "    .dataframe thead th {\n",
       "        text-align: right;\n",
       "    }\n",
       "</style>\n",
       "<table border=\"1\" class=\"dataframe\">\n",
       "  <thead>\n",
       "    <tr style=\"text-align: right;\">\n",
       "      <th></th>\n",
       "      <th>AAPL</th>\n",
       "      <th>MSFT</th>\n",
       "      <th>GOOGL</th>\n",
       "      <th>AMZN</th>\n",
       "    </tr>\n",
       "  </thead>\n",
       "  <tbody>\n",
       "    <tr>\n",
       "      <th>AAPL</th>\n",
       "      <td>0.097515</td>\n",
       "      <td>0.064037</td>\n",
       "      <td>0.061432</td>\n",
       "      <td>0.065500</td>\n",
       "    </tr>\n",
       "    <tr>\n",
       "      <th>MSFT</th>\n",
       "      <td>0.064037</td>\n",
       "      <td>0.082887</td>\n",
       "      <td>0.065395</td>\n",
       "      <td>0.069256</td>\n",
       "    </tr>\n",
       "    <tr>\n",
       "      <th>GOOGL</th>\n",
       "      <td>0.061432</td>\n",
       "      <td>0.065395</td>\n",
       "      <td>0.096383</td>\n",
       "      <td>0.070765</td>\n",
       "    </tr>\n",
       "    <tr>\n",
       "      <th>AMZN</th>\n",
       "      <td>0.065500</td>\n",
       "      <td>0.069256</td>\n",
       "      <td>0.070765</td>\n",
       "      <td>0.119866</td>\n",
       "    </tr>\n",
       "  </tbody>\n",
       "</table>\n",
       "</div>"
      ],
      "text/plain": [
       "           AAPL      MSFT     GOOGL      AMZN\n",
       "AAPL   0.097515  0.064037  0.061432  0.065500\n",
       "MSFT   0.064037  0.082887  0.065395  0.069256\n",
       "GOOGL  0.061432  0.065395  0.096383  0.070765\n",
       "AMZN   0.065500  0.069256  0.070765  0.119866"
      ]
     },
     "metadata": {},
     "output_type": "display_data"
    }
   ],
   "source": [
    "mu_hist, Sigma_hist = dl.returns_and_covariance(prices, method='log')\n",
    "print('mu_hist:')\n",
    "display(mu_hist)\n",
    "print('Sigma_hist:')\n",
    "display(Sigma_hist)"
   ]
  },
  {
   "cell_type": "markdown",
   "id": "2c6d53c7",
   "metadata": {},
   "source": [
    "## 4. Market-implied equilibrium returns (π)"
   ]
  },
  {
   "cell_type": "code",
   "execution_count": 5,
   "id": "e5c6ee33",
   "metadata": {},
   "outputs": [
    {
     "name": "stdout",
     "output_type": "stream",
     "text": [
      "market return, variance: 0.213709162011994 0.07332367341139569\n",
      "pi (CAPM via betas, excess returns):\n"
     ]
    },
    {
     "data": {
      "text/plain": [
       "AAPL     0.213399\n",
       "MSFT     0.208048\n",
       "GOOGL    0.208636\n",
       "AMZN     0.228616\n",
       "dtype: float64"
      ]
     },
     "metadata": {},
     "output_type": "display_data"
    }
   ],
   "source": [
    "market_caps = mp.fetch_market_caps(TICKERS)  # fetch real market caps using yfinance\n",
    "w_mkt = mp.market_caps_to_weights(market_caps)\n",
    "\n",
    "# Market portfolio stats from helpers\n",
    "mkt_return, mkt_variance = mp.market_return_and_variance(mu_hist, Sigma_hist, w_mkt)\n",
    "mkt_excess = mkt_return - RISK_FREE\n",
    "\n",
    "# CAPM π via betas using Σ and w_mkt\n",
    "pi = ir.compute_pi(Sigma_hist, w_mkt, market_excess_return=mkt_excess)\n",
    "print('market return, variance:', mkt_return, mkt_variance)\n",
    "print('pi (CAPM via betas, excess returns):')\n",
    "display(pi)"
   ]
  },
  {
   "cell_type": "code",
   "execution_count": 13,
   "id": "9cb3da1c",
   "metadata": {},
   "outputs": [
    {
     "data": {
      "image/png": "[encoded data removed]",
      "text/plain": [
       "<Figure size 700x500 with 1 Axes>"
      ]
     },
     "metadata": {},
     "output_type": "display_data"
    }
   ],
   "source": [
    "# Plot Security Market Line (SML) with historical mean returns\n",
    "from src.implied_returns import asset_betas\n",
    "\n",
    "# Compute betas for each asset\n",
    "betas = asset_betas(Sigma_hist, w_mkt)\n",
    "\n",
    "# SML: E[r_i] = r_f + beta_i * (E[r_m] - r_f)\n",
    "rf = RISK_FREE if RISK_FREE is not None else 0.0\n",
    "sml_x = np.linspace(betas.min() - 0.1, betas.max() + 0.1, 100)\n",
    "sml_y = rf + sml_x * (mkt_return - rf)\n",
    "\n",
    "plt.figure(figsize=(7,5))\n",
    "plt.plot(sml_x, sml_y, label='Security Market Line (SML)', color='C0')\n",
    "plt.scatter(betas, mu_hist, color='C1', zorder=5)\n",
    "for ticker, beta, mu in zip(betas.index, betas, mu_hist):\n",
    "    plt.text(beta, mu, ticker, fontsize=10, ha='right', va='bottom')\n",
    "plt.xlabel('Beta')\n",
    "plt.ylabel('Expected Return')\n",
    "plt.title('Security Market Line (SML)')\n",
    "plt.legend()\n",
    "plt.grid(True)\n",
    "plt.show()"
   ]
  },
  {
   "cell_type": "markdown",
   "id": "eb2ea10e",
   "metadata": {},
   "source": [
    "## 5. Views and BL posterior"
   ]
  },
  {
   "cell_type": "code",
   "execution_count": 6,
   "id": "ce7cb431",
   "metadata": {},
   "outputs": [
    {
     "name": "stdout",
     "output_type": "stream",
     "text": [
      "BL posterior mean:\n"
     ]
    },
    {
     "data": {
      "text/plain": [
       "AAPL     0.218085\n",
       "MSFT     0.205409\n",
       "GOOGL    0.208081\n",
       "AMZN     0.228090\n",
       "dtype: float64"
      ]
     },
     "metadata": {},
     "output_type": "display_data"
    }
   ],
   "source": [
    "# Example relative view: AAPL expected to outperform MSFT by 2% annually\n",
    "P_row, q = vw.relative_view(TICKERS, long='AAPL', short='MSFT', magnitude=0.02)\n",
    "P, Q = vw.build_PQ([(P_row, q)])\n",
    "bl = opt.black_litterman_posterior(Sigma_hist, pi, P, Q, tau=TAU)\n",
    "print('BL posterior mean:')\n",
    "display(bl.mu_bl)"
   ]
  },
  {
   "cell_type": "markdown",
   "id": "3b577152",
   "metadata": {},
   "source": [
    "# 6. Efficient frontiers and plot"
   ]
  },
  {
   "cell_type": "code",
   "execution_count": 15,
   "id": "503ef16e",
   "metadata": {},
   "outputs": [
    {
     "data": {
      "image/png": "[encoded data removed]",
      "text/plain": [
       "<Figure size 800x500 with 1 Axes>"
      ]
     },
     "metadata": {},
     "output_type": "display_data"
    }
   ],
   "source": [
    "curves = opt.compare_mv_vs_bl(mu_hist, Sigma_hist, bl.mu_bl, bl.Sigma_bl, risk_free=RISK_FREE)\n",
    "fig, ax = plots.plot_frontiers(*curves.values())\n",
    "plt.show()"
   ]
  },
  {
   "cell_type": "code",
   "execution_count": 21,
   "id": "f00bd59d",
   "metadata": {},
   "outputs": [
    {
     "name": "stdout",
     "output_type": "stream",
     "text": [
      "Optimal portfolio allocation for MV and BL with a target return of 0.217\n"
     ]
    },
    {
     "data": {
      "text/html": [
       "<div>\n",
       "<style scoped>\n",
       "    .dataframe tbody tr th:only-of-type {\n",
       "        vertical-align: middle;\n",
       "    }\n",
       "\n",
       "    .dataframe tbody tr th {\n",
       "        vertical-align: top;\n",
       "    }\n",
       "\n",
       "    .dataframe thead th {\n",
       "        text-align: right;\n",
       "    }\n",
       "</style>\n",
       "<table border=\"1\" class=\"dataframe\">\n",
       "  <thead>\n",
       "    <tr style=\"text-align: right;\">\n",
       "      <th></th>\n",
       "      <th>AAPL</th>\n",
       "      <th>MSFT</th>\n",
       "      <th>GOOGL</th>\n",
       "      <th>AMZN</th>\n",
       "    </tr>\n",
       "    <tr>\n",
       "      <th>Model</th>\n",
       "      <th></th>\n",
       "      <th></th>\n",
       "      <th></th>\n",
       "      <th></th>\n",
       "    </tr>\n",
       "  </thead>\n",
       "  <tbody>\n",
       "    <tr>\n",
       "      <th>MV</th>\n",
       "      <td>0.275590</td>\n",
       "      <td>0.826358</td>\n",
       "      <td>-0.132419</td>\n",
       "      <td>-0.162659</td>\n",
       "    </tr>\n",
       "    <tr>\n",
       "      <th>BL</th>\n",
       "      <td>0.335051</td>\n",
       "      <td>0.273683</td>\n",
       "      <td>0.203881</td>\n",
       "      <td>0.198478</td>\n",
       "    </tr>\n",
       "  </tbody>\n",
       "</table>\n",
       "</div>"
      ],
      "text/plain": [
       "           AAPL      MSFT     GOOGL      AMZN\n",
       "Model                                        \n",
       "MV     0.275590  0.826358 -0.132419 -0.162659\n",
       "BL     0.335051  0.273683  0.203881  0.198478"
      ]
     },
     "execution_count": 21,
     "metadata": {},
     "output_type": "execute_result"
    }
   ],
   "source": [
    "# Compare MV and BL optimal weights and stats at the midpoint of the BL (yellow) efficient frontier\n",
    "mv_weights_list = curves['mv'][1]\n",
    "bl_weights_list = curves['bl'][1]\n",
    "bl_returns = curves['bl'][0]\n",
    "mv_returns = curves['mv'][0]\n",
    "mid = len(bl_weights_list) // 2\n",
    "\n",
    "# Get BL midpoint weights and target return\n",
    "bl_w = bl_weights_list[mid]\n",
    "target_ret = float(bl_w @ bl.mu_bl)\n",
    "\n",
    "# Compute MV weights for the same target return as BL midpoint\n",
    "mv_w = opt._quad_solve_weights(mu_hist, Sigma_hist, target_return=target_ret)\n",
    "\n",
    "# Compute stats\n",
    "exp_ret_mv = float(mv_w @ mu_hist)\n",
    "std_mv = float(np.sqrt(mv_w.values.T @ Sigma_hist.values @ mv_w.values))\n",
    "exp_ret_bl = float(bl_w @ bl.mu_bl)\n",
    "std_bl = float(np.sqrt(bl_w.values.T @ bl.Sigma_bl.values @ bl_w.values))\n",
    "\n",
    "# Build table\n",
    "print('Optimal portfolio allocation for MV and BL with a target return of', f'{target_ret:.4g}')\n",
    "comparison_df = pd.DataFrame(\n",
    "    [mv_w.values, bl_w.values],\n",
    "    columns=mv_w.index, index=[\"MV\", \"BL\"]\n",
    ")\n",
    "comparison_df.index.name = \"Model\"\n",
    "comparison_df"
   ]
  },
  {
   "cell_type": "markdown",
   "id": "52e1c845",
   "metadata": {},
   "source": [
    "#### MV Model\n",
    "- Interpretation\n",
    "    - Strong overweight in MSFT (83%) and moderate weight in AAPL (28%).\n",
    "    Negative weights in GOOGL and AMZN mean short positions (selling those stocks, using proceeds to buy more MSFT/AAPL).\n",
    "\n",
    "- Why this happens:\n",
    "    - As can be seen from the SML plot, historically MSFT had high return with relatively low volatility. \n",
    "    - Since MV uses historical mean returns directly, the optimizer will push heavily into MSFT.\n",
    "\n",
    "#### BL Model\n",
    "- Interpretation\n",
    "    - Much more balanced allocation: all positive weights, between ~20%–34%.\n",
    "\n",
    "- Why this happens:\n",
    "    - BL reflects the view that AAPL should outperform MSFT by 2% annually.\n"
   ]
  },
  {
   "cell_type": "markdown",
   "id": "584d6a73",
   "metadata": {},
   "source": [
    "## 7. Tangent portfolios comparison"
   ]
  },
  {
   "cell_type": "code",
   "execution_count": 22,
   "id": "92e5cb53",
   "metadata": {},
   "outputs": [
    {
     "name": "stdout",
     "output_type": "stream",
     "text": [
      "MV max Sharpe metrics: {'ret': 0.268916943464562, 'risk': 0.29795722354204546, 'sharpe': 0.9025354051391609}\n",
      "BL max Sharpe metrics: {'ret': 0.21460055239415066, 'risk': 0.2780485302722114, 'sharpe': 0.7718096987719499}\n",
      "Tangent (max Sharpe) portfolio weights:\n"
     ]
    },
    {
     "data": {
      "text/html": [
       "<div>\n",
       "<style scoped>\n",
       "    .dataframe tbody tr th:only-of-type {\n",
       "        vertical-align: middle;\n",
       "    }\n",
       "\n",
       "    .dataframe tbody tr th {\n",
       "        vertical-align: top;\n",
       "    }\n",
       "\n",
       "    .dataframe thead th {\n",
       "        text-align: right;\n",
       "    }\n",
       "</style>\n",
       "<table border=\"1\" class=\"dataframe\">\n",
       "  <thead>\n",
       "    <tr style=\"text-align: right;\">\n",
       "      <th></th>\n",
       "      <th>AAPL</th>\n",
       "      <th>MSFT</th>\n",
       "      <th>GOOGL</th>\n",
       "      <th>AMZN</th>\n",
       "    </tr>\n",
       "    <tr>\n",
       "      <th>Model</th>\n",
       "      <th></th>\n",
       "      <th></th>\n",
       "      <th></th>\n",
       "      <th></th>\n",
       "    </tr>\n",
       "  </thead>\n",
       "  <tbody>\n",
       "    <tr>\n",
       "      <th>MV</th>\n",
       "      <td>0.341555</td>\n",
       "      <td>1.024152</td>\n",
       "      <td>-0.164115</td>\n",
       "      <td>-0.201592</td>\n",
       "    </tr>\n",
       "    <tr>\n",
       "      <th>BL</th>\n",
       "      <td>0.331375</td>\n",
       "      <td>0.270680</td>\n",
       "      <td>0.201644</td>\n",
       "      <td>0.196300</td>\n",
       "    </tr>\n",
       "  </tbody>\n",
       "</table>\n",
       "</div>"
      ],
      "text/plain": [
       "           AAPL      MSFT     GOOGL      AMZN\n",
       "Model                                        \n",
       "MV     0.341555  1.024152 -0.164115 -0.201592\n",
       "BL     0.331375  0.270680  0.201644  0.196300"
      ]
     },
     "metadata": {},
     "output_type": "display_data"
    }
   ],
   "source": [
    "w_mv, r_mv, s_mv, sh_mv = opt.max_sharpe_portfolio(mu_hist, Sigma_hist, risk_free=RISK_FREE)\n",
    "w_bl, r_bl, s_bl, sh_bl = opt.max_sharpe_portfolio(bl.mu_bl, bl.Sigma_bl, risk_free=RISK_FREE)\n",
    "\n",
    "print('MV max Sharpe metrics:', {'ret': r_mv, 'risk': s_mv, 'sharpe': sh_mv})\n",
    "print('BL max Sharpe metrics:', {'ret': r_bl, 'risk': s_bl, 'sharpe': sh_bl})\n",
    "\n",
    "# Table: MV and BL tangent (max Sharpe) portfolio weights\n",
    "if w_mv is not None and w_bl is not None:\n",
    "    tangent_df = pd.DataFrame([w_mv.values, w_bl.values], columns=w_mv.index, index=[\"MV\", \"BL\"])\n",
    "    tangent_df.index.name = \"Model\"\n",
    "    print('Tangent (max Sharpe) portfolio weights:')\n",
    "    display(tangent_df)\n",
    "else:\n",
    "    print(\"Tangent (max Sharpe) portfolio is undefined for at least one model.\")"
   ]
  }
 ],
 "metadata": {
  "kernelspec": {
   "display_name": "Python 3",
   "language": "python",
   "name": "python3"
  },
  "language_info": {
   "codemirror_mode": {
    "name": "ipython",
    "version": 3
   },
   "file_extension": ".py",
   "mimetype": "text/x-python",
   "name": "python",
   "nbconvert_exporter": "python",
   "pygments_lexer": "ipython3",
   "version": "3.11.3"
  }
 },
 "nbformat": 4,
 "nbformat_minor": 5
}
