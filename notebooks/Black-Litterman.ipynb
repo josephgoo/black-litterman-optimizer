{
 "cells": [
  {
   "cell_type": "code",
   "execution_count": null,
   "id": "605b3192",
   "metadata": {},
   "outputs": [],
   "source": [
    "# Black–Litterman Bayesian Portfolio Optimizer\n",
    "This notebook demonstrates fetching data, computing historical MV statistics, building Black–Litterman posterior, and plotting efficient frontiers."
   ]
  },
  {
   "cell_type": "markdown",
   "id": "8a94ecfb",
   "metadata": {},
   "source": [
    "# Black–Litterman Bayesian Portfolio Optimizer\n",
    "This notebook demonstrates fetching data, computing historical MV statistics, building Black–Litterman posterior, and plotting efficient frontiers."
   ]
  },
  {
   "cell_type": "code",
   "execution_count": null,
   "id": "44c33035",
   "metadata": {},
   "outputs": [],
   "source": [
    "# Imports\n",
    "import pandas as pd\n",
    "from src import data_loader as dl\n",
    "from src import implied_returns as ir\n",
    "from src import views as vw\n",
    "from src import optimizer as opt\n",
    "from src import plots\n",
    "import matplotlib.pyplot as plt"
   ]
  },
  {
   "cell_type": "code",
   "execution_count": null,
   "id": "1c8a563d",
   "metadata": {},
   "outputs": [],
   "source": [
    "# Fetch prices\n",
    "tickers = ['AAPL','MSFT','GOOGL','AMZN']\n",
    "prices = dl.fetch_prices(tickers, start='2018-01-01').prices\n",
    "prices.tail()"
   ]
  },
  {
   "cell_type": "code",
   "execution_count": null,
   "id": "b13289a6",
   "metadata": {},
   "outputs": [],
   "source": [
    "# Historical mu and Sigma\n",
    "mu_hist, Sigma_hist = dl.returns_and_covariance(prices, method='log')\n",
    "mu_hist, Sigma_hist.shape"
   ]
  },
  {
   "cell_type": "code",
   "execution_count": null,
   "id": "e5c6ee33",
   "metadata": {},
   "outputs": [],
   "source": [
    "# Market caps -> weights and equilibrium returns\n",
    "market_caps = {t: 1.0 for t in tickers}  # placeholder\n",
    "w_mkt = ir.market_caps_to_weights(market_caps)\n",
    "delta = 2.5\n",
    "pi = ir.compute_pi(Sigma_hist, w_mkt, delta)\n",
    "pi"
   ]
  },
  {
   "cell_type": "code",
   "execution_count": null,
   "id": "ce7cb431",
   "metadata": {},
   "outputs": [],
   "source": [
    "code\n",
    "python\n",
    "# Optimal (max Sharpe) portfolios under MV and BL\n",
    "w_mv, r_mv, s_mv, sh_mv = opt.max_sharpe_portfolio(mu_hist, Sigma_hist)\n",
    "w_bl, r_bl, s_bl, sh_bl = opt.max_sharpe_portfolio(bl.mu_bl, bl.Sigma_bl)\n",
    "print('MV max Sharpe:', {'ret': r_mv, 'risk': s_mv, 'sharpe': sh_mv})\n",
    "print(w_mv.sort_values(ascending=False))\n",
    "print('BL max Sharpe:', {'ret': r_bl, 'risk': s_bl, 'sharpe': sh_bl})\n",
    "print(w_bl.sort_values(ascending=False))\n",
    "# Views: AAPL expected to beat MSFT by 2% annually\n",
    "P_row, q = vw.relative_view(tickers, long='AAPL', short='MSFT', magnitude=0.02)\n",
    "P, Q = vw.build_PQ([(P_row, q)])\n",
    "bl = opt.black_litterman_posterior(Sigma_hist, pi, P, Q, tau=0.05)\n",
    "bl.mu_bl"
   ]
  },
  {
   "cell_type": "code",
   "execution_count": null,
   "id": "503ef16e",
   "metadata": {},
   "outputs": [],
   "source": [
    "# Frontiers and plot\n",
    "curves = opt.compare_mv_vs_bl(mu_hist, Sigma_hist, bl.mu_bl, bl.Sigma_bl)\n",
    "fig, ax = plots.plot_frontiers(*curves.values())\n",
    "plt.show()"
   ]
  }
 ],
 "metadata": {
  "language_info": {
   "name": "python"
  }
 },
 "nbformat": 4,
 "nbformat_minor": 5
}
